{
  "nbformat": 4,
  "nbformat_minor": 0,
  "metadata": {
    "colab": {
      "provenance": [],
      "authorship_tag": "ABX9TyOldxDLC/cEg+I6I0fqvz+P",
      "include_colab_link": true
    },
    "kernelspec": {
      "name": "python3",
      "display_name": "Python 3"
    },
    "language_info": {
      "name": "python"
    }
  },
  "cells": [
    {
      "cell_type": "markdown",
      "metadata": {
        "id": "view-in-github",
        "colab_type": "text"
      },
      "source": [
        "<a href=\"https://colab.research.google.com/github/figueiredoelizeu/Projeto_Transfer_Learning_Python/blob/main/metricas_de_avalia%C3%A7%C3%A3o.ipynb\" target=\"_parent\"><img src=\"https://colab.research.google.com/assets/colab-badge.svg\" alt=\"Open In Colab\"/></a>"
      ]
    },
    {
      "cell_type": "code",
      "execution_count": 6,
      "metadata": {
        "colab": {
          "base_uri": "https://localhost:8080/"
        },
        "id": "knly6sjY0YjH",
        "outputId": "79563166-523a-41eb-a254-bceaefbe665a"
      },
      "outputs": [
        {
          "output_type": "stream",
          "name": "stdout",
          "text": [
            "2.18.0\n",
            "[]\n"
          ]
        }
      ],
      "source": [
        "import tensorflow as tf\n",
        "print(tf.__version__)\n",
        "print(tf.config.list_physical_devices('GPU'))\n"
      ]
    },
    {
      "cell_type": "code",
      "source": [
        "import numpy as np\n",
        "from sklearn.metrics import confusion_matrix\n",
        "\n",
        "def calcular_metricas_classificacao(y_real, y_previsao):\n",
        "    \"\"\"\n",
        "    Calcula as principais métricas de avaliação para modelos de classificação.\n",
        "\n",
        "    Args:\n",
        "        y_real (array-like): Os rótulos verdadeiros (reais).\n",
        "        y_previsao (array-like): Os rótulos previstos pelo modelo.\n",
        "\n",
        "    Returns:\n",
        "        dict: Um dicionário contendo Acurácia, Sensibilidade, Especificidade,\n",
        "              Precisão e F1-score.\n",
        "    \"\"\"\n",
        "\n",
        "    # Garante que as entradas são arrays numpy\n",
        "    y_real = np.array(y_real)\n",
        "    y_previsao = np.array(y_previsao)\n",
        "\n",
        "    # 1. Gerar a Matriz de Confusão\n",
        "    # A função confusion_matrix retorna na ordem: [[VN, FP], [FN, VP]]\n",
        "    mc = confusion_matrix(y_real, y_previsao)\n",
        "\n",
        "    # Desempacotar os valores da matriz de confusão\n",
        "    # mc.ravel() transforma a matriz em um array 1D\n",
        "    # [VN, FP, FN, VP]\n",
        "    VN, FP, FN, VP = mc.ravel()\n",
        "\n",
        "    print(f\"Matriz de Confusão:\\n{mc}\")\n",
        "    print(f\"VN: {VN}, FP: {FP}, FN: {FN}, VP: {VP}\\n\")\n",
        "\n",
        "    # Inicializar as métricas como 0 para evitar divisão por zero se o denominador for 0\n",
        "    acuracia = 0.0\n",
        "    sensibilidade = 0.0\n",
        "    especificidade = 0.0\n",
        "    precisao = 0.0\n",
        "    f1_score = 0.0\n",
        "\n",
        "    # 2. Calcular Acurácia\n",
        "    total_previsoes = VP + VN + FP + FN\n",
        "    if total_previsoes > 0:\n",
        "        acuracia = (VP + VN) / total_previsoes\n",
        "\n",
        "    # 3. Calcular Sensibilidade (Recall)\n",
        "    if (VP + FN) > 0:\n",
        "        sensibilidade = VP / (VP + FN)\n",
        "\n",
        "    # 4. Calcular Especificidade\n",
        "    if (VN + FP) > 0:\n",
        "        especificidade = VN / (VN + FP)\n",
        "\n",
        "    # 5. Calcular Precisão\n",
        "    if (VP + FP) > 0:\n",
        "        precisao = VP / (VP + FP)\n",
        "\n",
        "    # 6. Calcular F1-score\n",
        "    # Só calcula se precisão e sensibilidade não forem zero para evitar divisão por zero\n",
        "    if (precisao + sensibilidade) > 0:\n",
        "        f1_score = 2 * (precisao * sensibilidade) / (precisao + sensibilidade)\n",
        "\n",
        "    metricas = {\n",
        "        \"Acurácia\": acuracia,\n",
        "        \"Sensibilidade (Recall)\": sensibilidade,\n",
        "        \"Especificidade\": especificidade,\n",
        "        \"Precisão\": precisao,\n",
        "        \"F1-score\": f1_score\n",
        "    }\n",
        "\n",
        "    return metricas\n",
        "\n",
        "# --- Exemplo de Uso ---\n",
        "# Dados reais (o que realmente deveria ser)\n",
        "y_verdadeiro = [0, 1, 0, 1, 0, 0, 1, 1, 0, 1]\n",
        "\n",
        "# Previsões do seu modelo\n",
        "y_modelo_pred = [0, 1, 1, 1, 0, 0, 0, 1, 0, 1]\n",
        "\n",
        "# Calcular as métricas\n",
        "resultados = calcular_metricas_classificacao(y_verdadeiro, y_modelo_pred)\n",
        "\n",
        "print(\"Resultados das Métricas de Avaliação:\")\n",
        "for nome, valor in resultados.items():\n",
        "    print(f\"{nome}: {valor:.4f}\") # Formata para 4 casas decimais"
      ],
      "metadata": {
        "colab": {
          "base_uri": "https://localhost:8080/"
        },
        "id": "B9AYEX8o1xDf",
        "outputId": "bab1a18c-e301-4dd3-8240-887970884f61"
      },
      "execution_count": 8,
      "outputs": [
        {
          "output_type": "stream",
          "name": "stdout",
          "text": [
            "Matriz de Confusão:\n",
            "[[4 1]\n",
            " [1 4]]\n",
            "VN: 4, FP: 1, FN: 1, VP: 4\n",
            "\n",
            "Resultados das Métricas de Avaliação:\n",
            "Acurácia: 0.8000\n",
            "Sensibilidade (Recall): 0.8000\n",
            "Especificidade: 0.8000\n",
            "Precisão: 0.8000\n",
            "F1-score: 0.8000\n"
          ]
        }
      ]
    }
  ]
}