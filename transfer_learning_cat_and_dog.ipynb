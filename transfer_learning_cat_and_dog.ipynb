{
  "nbformat": 4,
  "nbformat_minor": 0,
  "metadata": {
    "colab": {
      "provenance": [],
      "authorship_tag": "ABX9TyOpV0Z0XtA8lousSMLeLj1H",
      "include_colab_link": true
    },
    "kernelspec": {
      "name": "python3",
      "display_name": "Python 3"
    },
    "language_info": {
      "name": "python"
    }
  },
  "cells": [
    {
      "cell_type": "markdown",
      "metadata": {
        "id": "view-in-github",
        "colab_type": "text"
      },
      "source": [
        "<a href=\"https://colab.research.google.com/github/figueiredoelizeu/Exercicios_Python_DIO/blob/main/transfer_learning_cat_and_dog.ipynb\" target=\"_parent\"><img src=\"https://colab.research.google.com/assets/colab-badge.svg\" alt=\"Open In Colab\"/></a>"
      ]
    },
    {
      "cell_type": "code",
      "source": [
        "# 1️⃣ Importar bibliotecas\n",
        "import tensorflow as tf\n",
        "import tensorflow_datasets as tfds\n",
        "import matplotlib.pyplot as plt\n",
        "import numpy as np\n",
        "\n",
        "# 2️⃣ Carregar o dataset\n",
        "(train_ds, test_ds), ds_info = tfds.load(\n",
        "    'cats_vs_dogs',\n",
        "    split=['train[:80%]', 'train[80%:]'],\n",
        "    as_supervised=True,\n",
        "    with_info=True\n",
        ")\n",
        "\n",
        "# 3️⃣ Pré-processamento das imagens\n",
        "IMG_SIZE = 160\n",
        "\n",
        "def format_example(image, label):\n",
        "    image = tf.image.resize(image, (IMG_SIZE, IMG_SIZE))\n",
        "    image = image / 255.0\n",
        "    return image, label\n",
        "\n",
        "train_ds = train_ds.map(format_example).batch(32).prefetch(tf.data.AUTOTUNE)\n",
        "test_ds = test_ds.map(format_example).batch(32).prefetch(tf.data.AUTOTUNE)\n",
        "\n",
        "# 4️⃣ Importar o modelo base MobileNetV2\n",
        "base_model = tf.keras.applications.MobileNetV2(\n",
        "    input_shape=(IMG_SIZE, IMG_SIZE, 3),\n",
        "    include_top=False,\n",
        "    weights='imagenet'\n",
        ")\n",
        "base_model.trainable = False  # congelar as camadas base\n",
        "\n",
        "# 5️⃣ Criar o modelo final\n",
        "model = tf.keras.Sequential([\n",
        "    base_model,\n",
        "    tf.keras.layers.GlobalAveragePooling2D(),\n",
        "    tf.keras.layers.Dense(1)  # saída binária\n",
        "])\n",
        "\n",
        "# 6️⃣ Compilar o modelo\n",
        "model.compile(\n",
        "    optimizer=tf.keras.optimizers.Adam(),\n",
        "    loss=tf.keras.losses.BinaryCrossentropy(from_logits=True),\n",
        "    metrics=['accuracy']\n",
        ")\n",
        "\n",
        "# 7️⃣ Treinar o modelo\n",
        "EPOCHS = 5\n",
        "history = model.fit(train_ds, validation_data=test_ds, epochs=EPOCHS)\n",
        "\n",
        "# 8️⃣ Avaliar desempenho\n",
        "loss, acc = model.evaluate(test_ds)\n",
        "print(f'Precisão final: {acc * 100:.2f}%')\n",
        "\n",
        "# 9️⃣ Fazer previsões em imagens novas\n",
        "for image_batch, label_batch in test_ds.take(1):\n",
        "    prediction = model.predict(image_batch)\n",
        "    predicted_label = tf.round"
      ],
      "metadata": {
        "colab": {
          "base_uri": "https://localhost:8080/"
        },
        "id": "VGUglm9Njekp",
        "outputId": "fa6746c8-845b-47a8-b505-3b2aab624a7f"
      },
      "execution_count": 15,
      "outputs": [
        {
          "output_type": "stream",
          "name": "stdout",
          "text": [
            "Downloading data from https://storage.googleapis.com/tensorflow/keras-applications/mobilenet_v2/mobilenet_v2_weights_tf_dim_ordering_tf_kernels_1.0_160_no_top.h5\n",
            "\u001b[1m9406464/9406464\u001b[0m \u001b[32m━━━━━━━━━━━━━━━━━━━━\u001b[0m\u001b[37m\u001b[0m \u001b[1m0s\u001b[0m 0us/step\n",
            "Epoch 1/5\n",
            "\u001b[1m582/582\u001b[0m \u001b[32m━━━━━━━━━━━━━━━━━━━━\u001b[0m\u001b[37m\u001b[0m \u001b[1m429s\u001b[0m 724ms/step - accuracy: 0.9120 - loss: 0.1837 - val_accuracy: 0.9779 - val_loss: 0.0614\n",
            "Epoch 2/5\n",
            "\u001b[1m582/582\u001b[0m \u001b[32m━━━━━━━━━━━━━━━━━━━━\u001b[0m\u001b[37m\u001b[0m \u001b[1m429s\u001b[0m 737ms/step - accuracy: 0.9785 - loss: 0.0586 - val_accuracy: 0.9796 - val_loss: 0.0573\n",
            "Epoch 3/5\n",
            "\u001b[1m582/582\u001b[0m \u001b[32m━━━━━━━━━━━━━━━━━━━━\u001b[0m\u001b[37m\u001b[0m \u001b[1m484s\u001b[0m 831ms/step - accuracy: 0.9820 - loss: 0.0515 - val_accuracy: 0.9796 - val_loss: 0.0567\n",
            "Epoch 4/5\n",
            "\u001b[1m582/582\u001b[0m \u001b[32m━━━━━━━━━━━━━━━━━━━━\u001b[0m\u001b[37m\u001b[0m \u001b[1m448s\u001b[0m 739ms/step - accuracy: 0.9835 - loss: 0.0473 - val_accuracy: 0.9794 - val_loss: 0.0569\n",
            "Epoch 5/5\n",
            "\u001b[1m582/582\u001b[0m \u001b[32m━━━━━━━━━━━━━━━━━━━━\u001b[0m\u001b[37m\u001b[0m \u001b[1m417s\u001b[0m 717ms/step - accuracy: 0.9848 - loss: 0.0441 - val_accuracy: 0.9791 - val_loss: 0.0575\n",
            "\u001b[1m146/146\u001b[0m \u001b[32m━━━━━━━━━━━━━━━━━━━━\u001b[0m\u001b[37m\u001b[0m \u001b[1m83s\u001b[0m 566ms/step - accuracy: 0.9815 - loss: 0.0506\n",
            "Precisão final: 97.91%\n",
            "\u001b[1m1/1\u001b[0m \u001b[32m━━━━━━━━━━━━━━━━━━━━\u001b[0m\u001b[37m\u001b[0m \u001b[1m3s\u001b[0m 3s/step\n"
          ]
        }
      ]
    }
  ]
}